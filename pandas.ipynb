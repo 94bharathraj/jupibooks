{
 "cells": [
  {
   "cell_type": "markdown",
   "metadata": {},
   "source": [
    "- NumPy is a great tool for dealing with numeric matrices and vectors in Python\n",
    "- For more complex data, it is limited.\n",
    "- Fortunately, when dealing with __complex data__ we can use a powerful Python data analysis toolkit, pandas\n",
    "- Pandas is an open source library providing __high-performance and easy-to-use data structures__ for the Python programming language\n",
    "- Used primarily for data manipulation and analysis\n",
    "- Resources: http://pandas.pydata.org/pandas-docs/version/0.13.1/pandas.pdf"
   ]
  },
  {
   "cell_type": "markdown",
   "metadata": {},
   "source": [
    "### Pandas introduces two new data structures to Python:\n",
    "- (i) Series and\n",
    "- (ii) DataFrame\n",
    "\n",
    "- Both Series and Dataframe are built on top of __NumPy__ (which means it is very fast)\n",
    "\n",
    "\n",
    "# Pandas: Series\n",
    "\n",
    "#### A Series is an one-dimensional object similar to an array, list, or column in a table\n",
    "- Pandas will assign a labelled index to each item in the Series\n",
    "- By default, each item will receive an index label from 0 to N, where N is the length of the Series minus one.\n",
    "\n",
    " S = Series (data, index = index) : data can be many different things such as a NumPy arrays, list of scalar values, dictionary"
   ]
  },
  {
   "cell_type": "code",
   "execution_count": 6,
   "metadata": {},
   "outputs": [
    {
     "name": "stdout",
     "output_type": "stream",
     "text": [
      "S1\n",
      "\n",
      "\n",
      "a    0.724320\n",
      "b    0.857300\n",
      "c   -1.377617\n",
      "d    0.127625\n",
      "e    1.840001\n",
      "dtype: float64\n",
      "\n",
      "\n",
      "S2\n",
      "\n",
      "\n",
      "0   -0.108797\n",
      "1    0.980716\n",
      "2    1.001213\n",
      "3    1.747460\n",
      "4    1.038069\n",
      "dtype: float64\n",
      "\n",
      "\n",
      "S2[1]:\n",
      "\n",
      "\n",
      "0.9807155580636534\n",
      "\n",
      "\n",
      " S2[[2, 2]]:\n",
      "\n",
      "\n",
      "2    1.001213\n",
      "2    1.001213\n",
      "dtype: float64\n",
      "\n",
      "\n",
      "s3:\n",
      "\n",
      "\n",
      "1     0.980716\n",
      "2     1.001213\n",
      "0    12.000000\n",
      "dtype: float64\n",
      "\n",
      "\n",
      "np.square(s3):\n",
      "\n",
      "\n",
      "1      0.961803\n",
      "2      1.002427\n",
      "0    144.000000\n",
      "dtype: float64\n"
     ]
    }
   ],
   "source": [
    "import numpy as np\n",
    "import pandas as pd\n",
    "\n",
    "s1 = pd.Series( np.random.randn(5), index=['a','b','c','d','e'])\n",
    "\n",
    "s2 = pd.Series(np.random.randn(5))\n",
    "print (\"S1\\n\\n\")\n",
    "print (s1)\n",
    "print (\"\\n\\nS2\\n\\n\")\n",
    "print (s2)\n",
    "\n",
    "print (\"\\n\\nS2[1]:\\n\\n\")\n",
    "print (s2[1])\n",
    "\n",
    "print (\"\\n\\n S2[[2, 2]]:\\n\\n\")\n",
    "print (s2[[2, 2]])\n",
    "\n",
    "\n",
    "s3 = s2[[1, 2]]\n",
    "s3[0] = 12\n",
    "\n",
    "print (\"\\n\\ns3:\\n\\n\")\n",
    "print (s3)\n",
    "\n",
    "print (\"\\n\\nnp.square(s3):\\n\\n\")\n",
    "print (np.square(s3))"
   ]
  },
  {
   "cell_type": "markdown",
   "metadata": {},
   "source": [
    "#### You will notice that the functionality and syntax used in Series quite similar to that of numpy array."
   ]
  },
  {
   "cell_type": "code",
   "execution_count": 8,
   "metadata": {},
   "outputs": [
    {
     "name": "stdout",
     "output_type": "stream",
     "text": [
      "Dublin      False\n",
      "Cork         True\n",
      "Limerick     True\n",
      "Galway      False\n",
      "Belfast     False\n",
      "dtype: bool\n",
      "\n",
      " Cork        150\n",
      "Limerick    125\n",
      "dtype: int64\n",
      "<class 'pandas.core.series.Series'>\n"
     ]
    }
   ],
   "source": [
    "# Dictionary with annual car robberies in each Irish city\n",
    "d = {'Dublin': 245, 'Cork': 150, 'Limerick': 125,'Galway': 360, 'Belfast': 300}\n",
    "\n",
    "irishCities = pd.Series(d)\n",
    "\n",
    "print (irishCities <230)\n",
    "\n",
    "print (\"\\n\", irishCities [ irishCities <230  ]  )\n",
    "\n",
    "\n",
    "\n",
    "print ( type ( irishCities[irishCities <200] ) )"
   ]
  },
  {
   "cell_type": "markdown",
   "metadata": {},
   "source": [
    "#### As in NumPy Array, relational operators return you a separate copy of the data. The original series and the one returned by the relational operator do not refer to the same copy of the same data.\n",
    "- Another useful feature of a series is using boolean conditions\n",
    "- __IrishCities < 200__ returns a Series of True/False values, which we then pass to our Series cities, returning the\n",
    "corresponding True"
   ]
  },
  {
   "cell_type": "markdown",
   "metadata": {},
   "source": [
    "# Dataframe\n",
    "\n",
    "- A DataFrame is a data structure comprised of rows and columns of data.\n",
    "- It is similar to a __spreadsheet__ or a database table.\n",
    "\n",
    "- You can also think of a DataFrame as a __collection of Series objects__ that share an index\n",
    "\n",
    "- The syntax for creating a data frame is as follows:\n",
    "\n",
    "__DataFrame(data, columns=listOfColumns)__\n",
    "\n",
    "- Using the columns parameter allows us to tell the constructor how we'd like the columns ordered."
   ]
  },
  {
   "cell_type": "markdown",
   "metadata": {},
   "source": [
    "### Creating a DataFrame\n"
   ]
  },
  {
   "cell_type": "code",
   "execution_count": 3,
   "metadata": {},
   "outputs": [
    {
     "name": "stdout",
     "output_type": "stream",
     "text": [
      "        one       two     three\n",
      "a  0.798410  0.885450       NaN\n",
      "b  0.753788  0.897512  0.724706\n",
      "c  0.866511  0.125578  0.363893\n",
      "d       NaN  0.402872  0.400120\n"
     ]
    }
   ],
   "source": [
    "seriesA = pd.Series( np.random.rand(3), index=['a', 'b', 'c']  )\n",
    "seriesB = pd.Series( np.random.rand(4), index=['a', 'b', 'c', 'd'] )\n",
    "seriesC = pd.Series( np.random.rand(3), index=['b', 'c', 'd'] )\n",
    "\n",
    "df = pd.DataFrame( { 'one' : seriesA,  'two' : seriesB, 'three' : seriesC } )\n",
    "print (df)"
   ]
  },
  {
   "cell_type": "markdown",
   "metadata": {},
   "source": [
    "#### Remember we mentioned you can view a dataset as a group of Series object. Here create a DataFrame by passing it a number of Series objects"
   ]
  },
  {
   "cell_type": "markdown",
   "metadata": {},
   "source": [
    "### In the example below we create a dataframe with 2D Numpy array. The array (arr) is passed as an argument when the dataframe is created"
   ]
  },
  {
   "cell_type": "code",
   "execution_count": 4,
   "metadata": {},
   "outputs": [
    {
     "name": "stdout",
     "output_type": "stream",
     "text": [
      "     0    1    2\n",
      "0  1.0  2.0  3.0\n",
      "1  4.0  5.0  6.0\n",
      "2  7.0  8.0  9.0\n"
     ]
    }
   ],
   "source": [
    "import pandas as pd\n",
    "import numpy as np\n",
    "\n",
    "arr = np.array([[1, 2, 3], [4, 5, 6], [7, 8, 9]], float)\n",
    "\n",
    "df = pd.DataFrame( arr )\n",
    "\n",
    "print (df)"
   ]
  },
  {
   "cell_type": "markdown",
   "metadata": {},
   "source": [
    "# Revert from DataFrame to NumPy Array"
   ]
  },
  {
   "cell_type": "markdown",
   "metadata": {},
   "source": [
    "- It is very easy to convert from a DataFrame object to a NumPy array using .values. \n",
    "- We can also convert a Series object to a NumPy array in the same way!"
   ]
  },
  {
   "cell_type": "code",
   "execution_count": 6,
   "metadata": {},
   "outputs": [
    {
     "name": "stdout",
     "output_type": "stream",
     "text": [
      "[[1. 2. 3.]\n",
      " [4. 5. 6.]\n",
      " [7. 8. 9.]]\n",
      "<class 'numpy.ndarray'>\n"
     ]
    }
   ],
   "source": [
    "import pandas as pd\n",
    "import numpy as np\n",
    "\n",
    "arr = np.array([[1, 2, 3], [4, 5, 6], [7, 8, 9]], float)\n",
    "\n",
    "df = pd.DataFrame( arr )\n",
    "\n",
    "dataArr = df.values\n",
    "\n",
    "print (dataArr)\n",
    "print (type(dataArr))"
   ]
  },
  {
   "cell_type": "markdown",
   "metadata": {},
   "source": [
    "## The most common way of creating a dataframe is by reading existing data directly into a dataframe:\n",
    "\n",
    "There are a number of ways of doing this: \n",
    "read_csv,\n",
    "read_excel,\n",
    "read_hdf,\n",
    "read_sql,\n",
    "read_json,\n",
    "read_sas …\n",
    "\n",
    "We will look at how to read from a CSV file. "
   ]
  },
  {
   "cell_type": "markdown",
   "metadata": {},
   "source": [
    "### VARIABLE DESCRIPTIONS:\n",
    "- survival:        Survival  \t \t(0 = No; 1 = Yes)\n",
    "                    \n",
    "- pclass:          Passenger Class  \t\t (1 = 1st; 2 = 2nd; 3 = 3rd)\n",
    "                     \n",
    "- name:            Name\n",
    "\n",
    "- sex:                Sex\n",
    "\n",
    "- age:               Age\n",
    "\n",
    "- sibsp:            Number of Siblings/Spouses Aboard\n",
    "\n",
    "- parch:           Number of Parents/Children Aboard\n",
    "\n",
    "- ticket:           Ticket Number\n",
    "\n",
    "- fare:              Passenger Fare\n",
    "\n",
    "- cabin:            Cabin\n",
    "\n",
    "- embarked:    Port of Embarkation\t(C = Cherbourg; Q = Queenstown; S = Southampton)"
   ]
  },
  {
   "cell_type": "markdown",
   "metadata": {},
   "source": [
    "- To pull in the text file, we will use the pandas function read_csv method. \n",
    "\n",
    "- The read_csv has a very large number of parameters such as specifying the delimiter, included headers, etc\n",
    "\n",
    "- Typically it’s not very useful to print out an entire dataframe. \n",
    "\n",
    "- However, there are some useful functions you can use to get summary data. "
   ]
  },
  {
   "cell_type": "code",
   "execution_count": 7,
   "metadata": {},
   "outputs": [
    {
     "name": "stdout",
     "output_type": "stream",
     "text": [
      "<class 'pandas.core.frame.DataFrame'>\n",
      "RangeIndex: 891 entries, 0 to 890\n",
      "Data columns (total 12 columns):\n",
      " #   Column       Non-Null Count  Dtype  \n",
      "---  ------       --------------  -----  \n",
      " 0   PassengerId  891 non-null    int64  \n",
      " 1   Survived     891 non-null    int64  \n",
      " 2   Pclass       891 non-null    int64  \n",
      " 3   Name         891 non-null    object \n",
      " 4   Sex          891 non-null    object \n",
      " 5   Age          714 non-null    float64\n",
      " 6   SibSp        891 non-null    int64  \n",
      " 7   Parch        891 non-null    int64  \n",
      " 8   Ticket       891 non-null    object \n",
      " 9   Fare         891 non-null    float64\n",
      " 10  Cabin        204 non-null    object \n",
      " 11  Embarked     889 non-null    object \n",
      "dtypes: float64(2), int64(5), object(5)\n",
      "memory usage: 83.7+ KB\n",
      "None\n"
     ]
    }
   ],
   "source": [
    "import pandas as pd\n",
    "\n",
    "df = pd.read_csv(\"titanic.csv\")\n",
    "\n",
    "print (df.info())"
   ]
  },
  {
   "cell_type": "markdown",
   "metadata": {},
   "source": [
    "# Describing a DataFrame\n",
    "DataFrame's also have a useful __describe__ method, which is used for viewing basic statistics about the dataset's numeric columns. \n",
    "It will return information on all columns of a numeric datatype, therefore some of the data may not be of use .\n",
    "The data type of what is returned is itself a dataframe"
   ]
  },
  {
   "cell_type": "code",
   "execution_count": 8,
   "metadata": {},
   "outputs": [
    {
     "name": "stdout",
     "output_type": "stream",
     "text": [
      "       PassengerId    Survived      Pclass         Age       SibSp  \\\n",
      "count   891.000000  891.000000  891.000000  714.000000  891.000000   \n",
      "mean    446.000000    0.383838    2.308642   29.699118    0.523008   \n",
      "std     257.353842    0.486592    0.836071   14.526497    1.102743   \n",
      "min       1.000000    0.000000    1.000000    0.420000    0.000000   \n",
      "25%     223.500000    0.000000    2.000000   20.125000    0.000000   \n",
      "50%     446.000000    0.000000    3.000000   28.000000    0.000000   \n",
      "75%     668.500000    1.000000    3.000000   38.000000    1.000000   \n",
      "max     891.000000    1.000000    3.000000   80.000000    8.000000   \n",
      "\n",
      "            Parch        Fare  \n",
      "count  891.000000  891.000000  \n",
      "mean     0.381594   32.204208  \n",
      "std      0.806057   49.693429  \n",
      "min      0.000000    0.000000  \n",
      "25%      0.000000    7.910400  \n",
      "50%      0.000000   14.454200  \n",
      "75%      0.000000   31.000000  \n",
      "max      6.000000  512.329200  \n"
     ]
    }
   ],
   "source": [
    "import pandas as pd\n",
    "\n",
    "df = pd.read_csv(\"titanic.csv\")\n",
    "\n",
    "#print (df.info())\n",
    "\n",
    "print (df.describe())"
   ]
  },
  {
   "cell_type": "markdown",
   "metadata": {},
   "source": [
    "### Data Stat\n",
    "We can easily see the average age of the passengers is 29.6 years old, with the youngest being 0.42 and the oldest being 80. The median age is 28, with the youngest quartile of users being 20 or younger, and the oldest quartile being at least 38"
   ]
  },
  {
   "cell_type": "markdown",
   "metadata": {},
   "source": [
    "# Accessing Column Data\n",
    "\n",
    "To select a column, we index with the name of the column:\n",
    "__dataframe[‘columnName’]__\n",
    "\n",
    "- Note this column is returned as a Series object\n",
    "\n",
    "- Alternatively, a column of data may be accessed using the dot notation with the column name as an attribute (df.Age). Although it works with this particular example, it is not best practice and is prone to error and misuse. \n",
    "\n",
    "- Column names with spaces or special characters cannot be accessed in this manner.\n"
   ]
  },
  {
   "cell_type": "code",
   "execution_count": 9,
   "metadata": {},
   "outputs": [
    {
     "name": "stdout",
     "output_type": "stream",
     "text": [
      "0      22.0\n",
      "1      38.0\n",
      "2      26.0\n",
      "3      35.0\n",
      "4      35.0\n",
      "       ... \n",
      "886    27.0\n",
      "887    19.0\n",
      "888     NaN\n",
      "889    26.0\n",
      "890    32.0\n",
      "Name: Age, Length: 891, dtype: float64\n",
      "\n",
      "\n",
      " 0      22.0\n",
      "1      38.0\n",
      "2      26.0\n",
      "3      35.0\n",
      "4      35.0\n",
      "       ... \n",
      "886    27.0\n",
      "887    19.0\n",
      "888     NaN\n",
      "889    26.0\n",
      "890    32.0\n",
      "Name: Age, Length: 891, dtype: float64\n"
     ]
    }
   ],
   "source": [
    "import pandas as pd\n",
    "\n",
    "df = pd.read_csv(\"titanic.csv\")\n",
    "\n",
    "print ( df['Age'] )\n",
    "print ( \"\\n\\n\",df.Age)"
   ]
  },
  {
   "cell_type": "markdown",
   "metadata": {},
   "source": [
    "# Accessing Columns\n",
    "\n",
    "We mentioned in a previous slide that you can also think of a DataFrame as __a group of Series objects__ that share an index. When you access an individual column from a dataframe the data type returned is a series. \n",
    "Note if you extract multiple columns the data type returned is  __still__ a DataFrame."
   ]
  },
  {
   "cell_type": "code",
   "execution_count": 10,
   "metadata": {},
   "outputs": [
    {
     "name": "stdout",
     "output_type": "stream",
     "text": [
      "<class 'pandas.core.series.Series'>\n",
      "<class 'pandas.core.frame.DataFrame'>\n"
     ]
    }
   ],
   "source": [
    "df = pd.read_csv(\"titanic.csv\")\n",
    "\n",
    "ages = df['Age']\n",
    "print (type(ages))\n",
    "\n",
    "moreInfo = df[['Age', 'Name']]\n",
    "print (type(moreInfo))"
   ]
  },
  {
   "cell_type": "markdown",
   "metadata": {},
   "source": [
    "# Using Head and Tail\n",
    "\n",
    "- To view a small sample of a Series or DataFrame object, use the head (start) and tail (end) methods. The default number of elements to display is five, but you can pass a number as an argument.\n",
    "\n",
    "- If I want to capture the last 7 age values in the dataset"
   ]
  },
  {
   "cell_type": "code",
   "execution_count": 13,
   "metadata": {},
   "outputs": [
    {
     "name": "stdout",
     "output_type": "stream",
     "text": [
      "     PassengerId  Survived  Pclass                                  Name  \\\n",
      "7              8         0       3        Palsson, Master. Gosta Leonard   \n",
      "9             10         1       2   Nasser, Mrs. Nicholas (Adele Achem)   \n",
      "10            11         1       3       Sandstrom, Miss. Marguerite Rut   \n",
      "12            13         0       3        Saundercock, Mr. William Henry   \n",
      "14            15         0       3  Vestrom, Miss. Hulda Amanda Adolfina   \n",
      "..           ...       ...     ...                                   ...   \n",
      "869          870         1       3       Johnson, Master. Harold Theodor   \n",
      "875          876         1       3      Najib, Miss. Adele Kiamie \"Jane\"   \n",
      "876          877         0       3         Gustafsson, Mr. Alfred Ossian   \n",
      "877          878         0       3                  Petroff, Mr. Nedelio   \n",
      "887          888         1       1          Graham, Miss. Margaret Edith   \n",
      "\n",
      "        Sex   Age  SibSp  Parch     Ticket     Fare Cabin Embarked  \n",
      "7      male   2.0      3      1     349909  21.0750   NaN        S  \n",
      "9    female  14.0      1      0     237736  30.0708   NaN        C  \n",
      "10   female   4.0      1      1    PP 9549  16.7000    G6        S  \n",
      "12     male  20.0      0      0  A/5. 2151   8.0500   NaN        S  \n",
      "14   female  14.0      0      0     350406   7.8542   NaN        S  \n",
      "..      ...   ...    ...    ...        ...      ...   ...      ...  \n",
      "869    male   4.0      1      1     347742  11.1333   NaN        S  \n",
      "875  female  15.0      0      0       2667   7.2250   NaN        C  \n",
      "876    male  20.0      0      0       7534   9.8458   NaN        S  \n",
      "877    male  19.0      0      0     349212   7.8958   NaN        S  \n",
      "887  female  19.0      0      0     112053  30.0000   B42        S  \n",
      "\n",
      "[204 rows x 12 columns]\n"
     ]
    },
    {
     "data": {
      "text/plain": [
       "pandas.core.frame.DataFrame"
      ]
     },
     "execution_count": 13,
     "metadata": {},
     "output_type": "execute_result"
    }
   ],
   "source": [
    "import pandas as pd\n",
    "import numpy as np\n",
    "\n",
    "df = pd.read_csv(\"titanic.csv\")\n",
    "freqAges = df['Age']\n",
    "#print (freqAges.head())\n",
    "\n",
    "#print (freqAges.tail(7))\n",
    "\n",
    "\n",
    "age = df.loc[df[\"Age\"] < 22] # https://pandas.pydata.org/docs/reference/api/pandas.DataFrame.loc.html\n",
    "print (age)\n",
    "type(age) "
   ]
  },
  {
   "cell_type": "markdown",
   "metadata": {},
   "source": [
    "# Counting Value of Columns"
   ]
  },
  {
   "cell_type": "code",
   "execution_count": 12,
   "metadata": {},
   "outputs": [
    {
     "name": "stdout",
     "output_type": "stream",
     "text": [
      "male      577\n",
      "female    314\n",
      "Name: Sex, dtype: int64\n"
     ]
    }
   ],
   "source": [
    "df = pd.read_csv(\"titanic.csv\")\n",
    "print (df['Sex'].value_counts())"
   ]
  },
  {
   "cell_type": "markdown",
   "metadata": {},
   "source": [
    "- A very useful method value_counts() can be used to count the number of occurrences of each entry in a column (it returns a Series object)\n",
    "\n",
    "- It presents the results in descending order \n",
    "- For examples, how many males and females are"
   ]
  },
  {
   "cell_type": "code",
   "execution_count": 13,
   "metadata": {},
   "outputs": [
    {
     "name": "stdout",
     "output_type": "stream",
     "text": [
      "male      0.647587\n",
      "female    0.352413\n",
      "Name: Sex, dtype: float64\n"
     ]
    }
   ],
   "source": [
    "import pandas as pd\n",
    "\n",
    "df = pd.read_csv(\"titanic.csv\")\n",
    "print (df['Sex'].value_counts(normalize=True))"
   ]
  },
  {
   "cell_type": "markdown",
   "metadata": {},
   "source": [
    "- Read data in from the titanic dataset and determine the four most common ages represented. "
   ]
  },
  {
   "cell_type": "code",
   "execution_count": 14,
   "metadata": {},
   "outputs": [
    {
     "name": "stdout",
     "output_type": "stream",
     "text": [
      "24.0    30\n",
      "22.0    27\n",
      "18.0    26\n",
      "19.0    25\n",
      "Name: Age, dtype: int64\n"
     ]
    }
   ],
   "source": [
    "import pandas as pd\n",
    "\n",
    "df = pd.read_csv(\"titanic.csv\")\n",
    "freqAges = df['Age']\n",
    "print (freqAges.value_counts().head(4))"
   ]
  },
  {
   "cell_type": "markdown",
   "metadata": {},
   "source": [
    "### NumPy \n",
    "\n",
    "- [row, column] access\n",
    "- Slice operations [start:stop:step]\n",
    "- Performing operations of a specific axis ( np.sum(arr1, axis = 0) )\n",
    "- Comparison Operators\n",
    "- Advanced Index (Boolean index with comparison operation, interger list)\n",
    "- Logical Operators\n",
    "- ...\n",
    "\n",
    "### Pandas\n",
    "\n",
    "- Series and DataFrame \n",
    "- Accessing Columns\n",
    "- Reading csv ...\n",
    "- Producing stats \n",
    "- ..."
   ]
  },
  {
   "cell_type": "markdown",
   "metadata": {},
   "source": [
    "# Titanic Data Set\n",
    "\n",
    "### SPECIAL NOTES:\n",
    "\n",
    "- Pclass is a proxy for socio-economic status (SES)\n",
    "- 1st ~ Upper; 2nd ~ Middle; 3rd ~ Lower\n",
    "\n",
    "- Age is in Years; Fractional if Age less than One (1)\n",
    "- If the Age is Estimated, it is in the form xx.5\n",
    "\n",
    "- With respect to the family relation variables (i.e. sibsp and parch) some relations were ignored.  The following are the definitions used for __sibsp__ and __parch__.\n",
    "\n",
    "- Sibling:  Brother, Sister, Stepbrother, or Stepsister of Passenger Aboard Titanic\n",
    "- Spouse:   Husband or Wife of Passenger Aboard Titanic (Mistresses and Fiancees Ignored)\n",
    "- Parent:   Mother or Father of Passenger Aboard Titanic\n",
    "- Child:    Son, Daughter, Stepson, or Stepdaughter of Passenger Aboard Titanic"
   ]
  },
  {
   "cell_type": "code",
   "execution_count": null,
   "metadata": {},
   "outputs": [],
   "source": []
  }
 ],
 "metadata": {
  "kernelspec": {
   "display_name": "Python 3",
   "language": "python",
   "name": "python3"
  },
  "language_info": {
   "codemirror_mode": {
    "name": "ipython",
    "version": 3
   },
   "file_extension": ".py",
   "mimetype": "text/x-python",
   "name": "python",
   "nbconvert_exporter": "python",
   "pygments_lexer": "ipython3",
   "version": "3.8.5"
  }
 },
 "nbformat": 4,
 "nbformat_minor": 4
}
