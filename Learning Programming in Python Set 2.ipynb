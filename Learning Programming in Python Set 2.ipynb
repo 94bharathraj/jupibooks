{
 "cells": [
  {
   "cell_type": "markdown",
   "metadata": {},
   "source": [
    "# Slicing"
   ]
  },
  {
   "cell_type": "code",
   "execution_count": null,
   "metadata": {},
   "outputs": [],
   "source": [
    "    \n",
    "a = [1, 2, 3, 4, 5, 6,]\n",
    "\n",
    "start =1 \n",
    "stop=2\n",
    "    \n",
    "print (a[start:stop])  # items start through stop - 1 [in other words, exclude index of stop]\n",
    "print (a[start:])      # items start through the rest of the array\n",
    "print (a[:stop])       # items from the beginning through stop - 1 \n",
    "print (a[:])           # a copy of the whole array"
   ]
  },
  {
   "cell_type": "markdown",
   "metadata": {},
   "source": [
    "# Table to show indexes for slicing\n",
    "\n",
    "<pre>\n",
    "\n",
    "+---+---+---+---+ \n",
    "|-4 |-3 |-2 |-1 |  <= negative indexes\n",
    "+---+---+---+---+\n",
    "| A | B | C | D |  <= sequence elements\n",
    "+---+---+---+---+\n",
    "| 0 | 1 | 2 | 3 |  <= positive indexes\n",
    "+---+---+---+---+\n",
    "|     0:3:1     |  <= extent of the slice: \"ABCD\"[0:3:1]\n",
    "</pre>\n",
    "\n"
   ]
  },
  {
   "cell_type": "markdown",
   "metadata": {},
   "source": [
    "### Suppose we have got [a: b: c]. Rules for indices will be as follows:\n",
    "<pre>\n",
    "\n",
    "First c is checked. Default is +1, sign of c indicates forward or backward direction of the step. Absolute value of c indicates the step size.\n",
    "\n",
    "Than a is checked. When c is positive or None, default for a is 0. When c is negative, default for a is -1.\n",
    "\n",
    "Finally b is checked. When c is positive or None, default for b is len. When c is negative default for b is -(len+1).\n",
    "\n",
    "The index that is too large or too small is replaced with len or 0.\n",
    "</pre>"
   ]
  },
  {
   "cell_type": "code",
   "execution_count": 3,
   "metadata": {},
   "outputs": [
    {
     "name": "stdout",
     "output_type": "stream",
     "text": [
      "ABCD\n",
      "ABCD\n",
      "AC\n",
      "AD\n",
      "BCD\n",
      "ABC\n",
      "BC\n",
      "BC\n",
      "AC\n",
      "ABCD\n",
      "ABCD\n",
      "D\n",
      "A\n",
      "ABCD\n",
      "ABCD\n",
      "ABC\n",
      "ABC\n",
      "DCB\n",
      "This one:\n",
      "DCB\n",
      "DCBA\n",
      "The below is printing nothing\n",
      "\n",
      "reverse: DCBA\n"
     ]
    }
   ],
   "source": [
    "alphabet = \"ABCD\"\n",
    "\n",
    "print (alphabet[0:4])  # here deafault step = 1\n",
    "\n",
    "print (alphabet[-4:4])  # same as above\n",
    "\n",
    "print (alphabet[0:4:2]) #here step 2\n",
    "\n",
    "print (alphabet[0:4:3]) # here step 3\n",
    "\n",
    "\n",
    "\n",
    "print ( alphabet [1:]) # starting from index 1 until end\n",
    "print (alphabet [:3])  # staring from index 0 until index 3 - 1\n",
    "print (alphabet [1:3]) # staring from index 1 until index 3 - 1\n",
    "\n",
    "print (alphabet [1:3:]) # staring from index 1 until index 3 - 1\n",
    "\n",
    "print (alphabet [::2]) # starting index to end index: but step 2\n",
    "print (alphabet [::])  # starting tp end index: step None \n",
    "print (alphabet [:]) # starting index to end index\n",
    "\n",
    "print (alphabet [-1]) # last item of list # See above the table\n",
    "print (alphabet [-4]) # 4th item from last # See above the table\n",
    "\n",
    "\n",
    "size = len(alphabet) \n",
    "print (alphabet [0:])  # all from 0\n",
    "print (alphabet [-size:]) # same as above\n",
    "\n",
    "\n",
    "print (alphabet [0:3])  # start from 0 to 3-1\n",
    "print (alphabet [-size:-size+3]) # same as above\n",
    "\n",
    "\n",
    "print (alphabet [3:0:-1]) # start index 3 ;  end  index: 0 excluding 0 ;  step : -1\n",
    "print (\"This one:\")\n",
    "print (alphabet [-1:0:-1]) # start index  -1 ; end  index : 0 excluding 0;  step : -1\n",
    "print (alphabet [-1::-1]) # rule:  start = -1 ; stop -5   \n",
    "\n",
    "\n",
    "#When omitted during reverse slicing, the start index defaults to len(a)-1, making the above equivalent to\n",
    "print (\"The below is printing nothing\")\n",
    "print (alphabet[:-1:-1]) # start -1 : stop : -1  as step is negative: see rule\n",
    "\n",
    "print (\"reverse:\", alphabet[::-1]) # rule: start -1 ;stop -(len+1) : see rule\n"
   ]
  },
  {
   "cell_type": "markdown",
   "metadata": {},
   "source": [
    "# Python Functions:\n",
    "\n",
    "</pre>\n",
    "      In Python, function is a group of related statements that perform a specific task. Functions help break our program into smaller and modular chunks. As our program grows larger and larger, functions make it more organized and manageable. Furthermore, it avoids repetition and makes code reusable.\n",
    "\n",
    "        Syntax of Function\n",
    "            def function_name(parameters):\n",
    "                \n",
    "\n",
    "        statement(s)\n",
    "\n",
    "        Keyword def marks the start of function header.\n",
    "        A function name to uniquely identify it.\n",
    "        Function naming follows the same rules of writing identifiers in Python.\n",
    "        Parameters (arguments) through which we pass values to a function. They are optional.\n",
    "        A colon (:) to mark the end of function header.\n",
    "        Optional documentation string (docstring) to describe what the function does.\n",
    "        One or more valid python statements that make up the function body. \n",
    "        Statements must have same indentation level (usually 4 spaces).\n",
    "        An optional return statement to return a value from the function.\n",
    "    \n",
    "</pre>\n"
   ]
  },
  {
   "cell_type": "code",
   "execution_count": null,
   "metadata": {},
   "outputs": [],
   "source": [
    "# Example\n",
    "\n",
    "def display_name():\n",
    "    print(\"Sara\")\n",
    "    \n",
    "#   Call a function in python:\n",
    "#        Once we have defined a function, we can call it from another function, program or even the Python prompt. \n",
    "#        To call a function we simply type the function name with appropriate parameters.\n",
    "display_name()"
   ]
  },
  {
   "cell_type": "code",
   "execution_count": null,
   "metadata": {},
   "outputs": [],
   "source": [
    "# Example for retrun\n",
    "\n",
    "def check_positive_number(number):\n",
    "\n",
    "#    The function check that given number is positive or not\n",
    "\n",
    "    if number >= 0:\n",
    "        return \"The given number is positive\"\n",
    "    else:\n",
    "        return \"The given number is not positive\"\n",
    "    \n",
    "result = check_positive_number(-1)\n",
    "print(result)\n",
    "\n",
    "result = check_positive_number(1)\n",
    "print(result)"
   ]
  },
  {
   "cell_type": "markdown",
   "metadata": {},
   "source": [
    "# Recursion \n",
    "\n",
    "\n",
    "It is a method of solving problems that involves breaking a problem down into smaller and smaller subproblems until you get to a small enough problem which can can be solved trivially. Recursion involves a function calling itself."
   ]
  },
  {
   "cell_type": "code",
   "execution_count": null,
   "metadata": {},
   "outputs": [],
   "source": [
    "def myfunction(n):\n",
    "  if n == 0:\n",
    "    return n\n",
    "  else:\n",
    "    print (n)\n",
    "    return myfunction(n-1)\n",
    "    \n",
    "myfunction(10)"
   ]
  },
  {
   "cell_type": "markdown",
   "metadata": {},
   "source": [
    "## A Fibonacci sequence \n",
    "\n",
    "It is the integer sequence of 0, 1, 1, 2, 3, 5, 8....\n",
    "\n",
    "The first two terms are 0 and 1. All other terms are obtained by adding the preceding two terms.This means to say the nth term is the sum of (n-1)th and (n-2)th term."
   ]
  },
  {
   "cell_type": "code",
   "execution_count": null,
   "metadata": {},
   "outputs": [],
   "source": [
    "def r_fibo(n):\n",
    "   if n <= 1:\n",
    "       return n\n",
    "   else:\n",
    "       return(r_fibo(n-1) + r_fibo(n-2))\n",
    "\n",
    "nterms = 10\n",
    "\n",
    "# check if the number of terms is valid\n",
    "if nterms <= 0:\n",
    "   print(\"Enter a positive integer\")\n",
    "else:\n",
    "   print(\"Fibonacci sequence:\")\n",
    "   for i in range(nterms):\n",
    "       print(r_fibo(i))"
   ]
  },
  {
   "cell_type": "markdown",
   "metadata": {},
   "source": [
    "# Factorial\n",
    "\n",
    "The factorial of 6 (denoted as 6!) is 1*2*3*4*5*6 = 720\n",
    "\n"
   ]
  },
  {
   "cell_type": "code",
   "execution_count": null,
   "metadata": {},
   "outputs": [],
   "source": [
    "#When we call this function with a positive integer, it will recursively call itself by decreasing the number\n",
    "#A function to find the factorial of an integer\n",
    "\n",
    "def calc_factorial(x):\n",
    "    \n",
    "\n",
    "    if x == 1:\n",
    "        return 1\n",
    "    else:\n",
    "        return (x * calc_factorial(x-1))\n",
    "\n",
    "num = 4\n",
    "print(\"The factorial of\", num, \"is\", calc_factorial(num))"
   ]
  },
  {
   "cell_type": "markdown",
   "metadata": {},
   "source": [
    "# File I/O"
   ]
  },
  {
   "cell_type": "markdown",
   "metadata": {},
   "source": [
    "### The input Function"
   ]
  },
  {
   "cell_type": "code",
   "execution_count": null,
   "metadata": {},
   "outputs": [],
   "source": [
    "str1 = input(\"Enter your input: \")\n",
    "print (\"Received input is : \", str1)"
   ]
  },
  {
   "cell_type": "markdown",
   "metadata": {},
   "source": [
    "### File Reading/ Writing Modes\n",
    "\n",
    "<pre>\n",
    "\n",
    "r: Opens a file for reading only. The file pointer is placed at the beginning of the file. This is the default mode.\n",
    "\n",
    "rb : Opens a file for reading only in binary format. The file pointer is placed at the beginning of the file. This is the default mode.\n",
    "\n",
    "r+: Opens a file for both reading and writing. The file pointer placed at the beginning of the file.\n",
    "\n",
    "rb+: Opens a file for both reading and writing in binary format. The file pointer placed at the beginning of the file.\n",
    "\n",
    "w : Opens a file for writing only. Overwrites the file if the file exists. If the file does not exist, creates a new file for writing.\n",
    "\n",
    "wb: Opens a file for writing only in binary format. Overwrites the file if the file exists. If the file does not exist, creates a new file for writing.\n",
    "\n",
    "w+: Opens a file for both writing and reading. Overwrites the existing file if the file exists. If the file does not exist, creates a new file for reading and writing.\n",
    "\n",
    "\n",
    "wb+: Opens a file for both writing and reading in binary format. Overwrites the existing file if the file exists. If the file does not exist, creates a new file for reading and writing.\n",
    "\n",
    "\n",
    "a: Opens a file for appending. The file pointer is at the end of the file if the file exists. That is, the file is in the append mode. If the file does not exist, it creates a new file for writing.\n",
    "\n",
    "ab: Opens a file for appending in binary format. The file pointer is at the end of the file if the file exists. That is, the file is in the append mode. If the file does not exist, it creates a new file for writing.\n",
    "\n",
    "\n",
    "a+: Opens a file for both appending and reading. The file pointer is at the end of the file if the file exists. The file opens in the append mode. If the file does not exist, it creates a new file for reading and writing.\n",
    "\n",
    "\n",
    "ab+: Opens a file for both appending and reading in binary format. The file pointer is at the end of the file if the file exists. The file opens in the append mode. If the file does not exist, it creates a new file for reading and writing.\n",
    "</pre>"
   ]
  },
  {
   "cell_type": "code",
   "execution_count": null,
   "metadata": {},
   "outputs": [],
   "source": [
    "\n",
    "fo = open(\"foo.txt\", \"wb\")\n",
    "\n",
    "print (\"Name of the file: \", fo.name)\n",
    "print (\"Closed or not : \", fo.closed)\n",
    "print (\"Opening mode : \", fo.mode)\n",
    "\n",
    "# close the file\n",
    "fo.close()"
   ]
  },
  {
   "cell_type": "markdown",
   "metadata": {},
   "source": [
    "## Reading; Printing Lines and words"
   ]
  },
  {
   "cell_type": "code",
   "execution_count": null,
   "metadata": {},
   "outputs": [],
   "source": [
    "fo = open(\"foo.txt\", \"r\")\n",
    "\n",
    "for line in fo:\n",
    "    print (line)\n",
    "\n",
    "    \n",
    "position = fo.tell()\n",
    "print (\"Current file position : \", position) # current pointer position infile     \n",
    "    \n",
    "    \n",
    "x = dict ()\n",
    "\n",
    "fo.seek(0)  # placing pointer at the begining of the file\n",
    "\n",
    "for i, line in enumerate(fo): \n",
    "    print (i, line)\n",
    "    \n",
    "\n",
    "fo.seek(0)  #\n",
    "    \n",
    "str1 = fo.read()\n",
    "print (\"Again read String is : \", str1)\n",
    "\n",
    "#printing words  \n",
    "for line in str1.strip().split():\n",
    "    print (line,\"\\n\")\n",
    "\n",
    "\n",
    "#printing lines  \n",
    "for line in str1.split(\"\\n\"):\n",
    "    print (line,\"\\n\")\n",
    "\n",
    "    \n",
    "    \n",
    "fo.seek(0)  #\n",
    "str1 = fo.read(12)\n",
    "print (\"Again read String upto 12 chars: \", str1)\n",
    "\n"
   ]
  },
  {
   "cell_type": "markdown",
   "metadata": {},
   "source": [
    "# Writing "
   ]
  },
  {
   "cell_type": "code",
   "execution_count": 1,
   "metadata": {},
   "outputs": [
    {
     "name": "stdout",
     "output_type": "stream",
     "text": [
      "Python is a great language.\n",
      " its really great!!\n",
      "\n"
     ]
    }
   ],
   "source": [
    "fo = open(\"foo.txt\", \"a+\")\n",
    "\n",
    "fo.write(\"Python is a great language.\\n its really great!!\\n\")\n",
    "\n",
    "fo.seek(0)\n",
    "content = fo.read()\n",
    "print (content)\n",
    "\n"
   ]
  },
  {
   "cell_type": "markdown",
   "metadata": {},
   "source": [
    "The read() Method\n",
    "The read() method reads a string from an open file. It is important to note that Python strings can have binary data. apart from text data."
   ]
  },
  {
   "cell_type": "markdown",
   "metadata": {},
   "source": [
    "# Reading a file and Dict \n",
    "\n",
    "Lines are stored in dictionary where (line number = key and value =line) "
   ]
  },
  {
   "cell_type": "code",
   "execution_count": 2,
   "metadata": {},
   "outputs": [
    {
     "name": "stdout",
     "output_type": "stream",
     "text": [
      "{0: 'Python is a great language.', 1: 'its really great!!'}\n"
     ]
    }
   ],
   "source": [
    "fo = open(\"foo.txt\")\n",
    "\n",
    "dct = {}\n",
    "for i, line in enumerate(fo): \n",
    "    dct [i] = line.strip()\n",
    "\n",
    "print (dct)"
   ]
  },
  {
   "cell_type": "markdown",
   "metadata": {},
   "source": [
    "# Tuple\n",
    "\n",
    "Tuples are used to store multiple items in a single variable.\n",
    "\n",
    "Tuple is a built-in data type in Python. It used to store collections of data, the other 3 are List, Set, and Dictionary, all with different qualities and usage.\n",
    "\n",
    "A tuple is a collection which is ordered and unchangeable.\n",
    "\n",
    "Tuples are written with round brackets."
   ]
  },
  {
   "cell_type": "code",
   "execution_count": null,
   "metadata": {},
   "outputs": [],
   "source": [
    "tuple1 = (\"apple\", \"banana\", \"cherry\")\n",
    "tuple2 = (1, 5, 7, 9, 3)\n",
    "tuple3 = (True, False, False)\n",
    "tuple1 = (\"abc\", 34, True, 40, \"male\")\n",
    "\n",
    "t = ('foo', 'bar', 'baz', 'qux', 'quux', 'corge')\n",
    "\n",
    "print (t[0])\n",
    "\n",
    "print (t[-1])\n",
    "\n",
    "print (t[1::2])\n"
   ]
  },
  {
   "cell_type": "markdown",
   "metadata": {},
   "source": [
    "# Python Standard Libraries\n",
    "\n",
    "Here you will find many useful Python libraries: https://docs.python.org/3/library/\n",
    "\n",
    "- Giving two examples below\n",
    "\n",
    "### E.g. Generate Random Integers"
   ]
  },
  {
   "cell_type": "code",
   "execution_count": null,
   "metadata": {},
   "outputs": [],
   "source": [
    "from random import randint  # this way you need to import them\n",
    "\n",
    "X5 = [randint(0, 100) for i in range(0, 15)]\n",
    "\n",
    "print (X5)"
   ]
  },
  {
   "cell_type": "markdown",
   "metadata": {},
   "source": [
    "### E.g. Mathematical Operations"
   ]
  },
  {
   "cell_type": "code",
   "execution_count": null,
   "metadata": {},
   "outputs": [],
   "source": [
    "import math\n",
    "\n",
    "print('pi is', math.pi)\n",
    "print('cos(pi) is', math.cos(math.pi))\n",
    "\n",
    "print (\"factorial \", math.factorial(8))\n"
   ]
  },
  {
   "cell_type": "markdown",
   "metadata": {},
   "source": [
    "### Regular Expressions\n",
    "Regular expressions are patterns used to match character combinations in strings.\n",
    "\n",
    "https://docs.python.org/3/library/re.html"
   ]
  },
  {
   "cell_type": "code",
   "execution_count": null,
   "metadata": {},
   "outputs": [],
   "source": [
    "import re\n",
    "\n",
    "txt = \"The rain in Cork\"\n",
    "x = re.search(\"^The.*?Cork$\", txt)\n",
    "print (x)\n",
    "\n",
    "txt = \"The rain in Cork. John lives in Dublin. The Weather was not good in Cork. This is ok. The M7 mototway goes to Cork.\"\n",
    "\n",
    "x = re.findall(\"The.*?Cork\", txt)\n",
    "print (x)"
   ]
  },
  {
   "cell_type": "markdown",
   "metadata": {},
   "source": [
    "# Python Built-in Functions\n",
    "\n",
    "Some of useful built-in fucntions in Python"
   ]
  },
  {
   "cell_type": "markdown",
   "metadata": {},
   "source": [
    "# abs()\n",
    "\n",
    "It is a popular Python built-in function, which returns the absolute value of a number. A negative value's absolute is that value is positive."
   ]
  },
  {
   "cell_type": "code",
   "execution_count": null,
   "metadata": {},
   "outputs": [],
   "source": [
    "print (abs(-7))"
   ]
  },
  {
   "cell_type": "markdown",
   "metadata": {},
   "source": [
    "# all()\n",
    "\n",
    "Returns True if all items in an iterable object are true"
   ]
  },
  {
   "cell_type": "code",
   "execution_count": null,
   "metadata": {},
   "outputs": [],
   "source": [
    "mylist = [True, True, True]\n",
    "x = all(mylist)\n",
    "\n",
    "print (x)\n",
    "\n",
    "mylist = [1, 0, 1]\n",
    "x = all(mylist)\n",
    "\n",
    "print (x)\n",
    "\n",
    "mylist = [1, '', 1]\n",
    "x = all(mylist)\n",
    "\n",
    "print (x)"
   ]
  },
  {
   "cell_type": "markdown",
   "metadata": {},
   "source": [
    "# chr()\n",
    "chr() Built In function returns the character in python for an ASCII value [https://www.ascii-code.com/]"
   ]
  },
  {
   "cell_type": "code",
   "execution_count": null,
   "metadata": {},
   "outputs": [],
   "source": [
    "print (chr(54))\n",
    "\n",
    "print (chr(67))\n",
    "\n",
    "print (chr(79))"
   ]
  },
  {
   "cell_type": "markdown",
   "metadata": {},
   "source": [
    " # float() \n",
    "This Python Built In function converts an int or a compatible value into a float.\n",
    "# int( )\n",
    "Converts a value to an integer\n",
    "\n",
    "# str( )\n",
    " takes an argument and returns the string equivalent of it.\n",
    "\n"
   ]
  },
  {
   "cell_type": "code",
   "execution_count": null,
   "metadata": {},
   "outputs": [],
   "source": [
    "print(float (2))\n",
    "\n",
    "print(int(3.5))\n",
    "\n",
    "num = 100\n",
    "s = str(num) \n",
    "print(s, type(s)) \n",
    "  \n",
    "num = 100.1\n",
    "s = str(num) \n",
    "print(s, type(s))"
   ]
  },
  {
   "cell_type": "markdown",
   "metadata": {},
   "source": [
    "# sum()\n",
    "The function sum() takes an iterable as an argument, and returns the sum of all values.\n",
    "\n"
   ]
  },
  {
   "cell_type": "code",
   "execution_count": null,
   "metadata": {},
   "outputs": [],
   "source": [
    "sum([3,4,5],3)"
   ]
  },
  {
   "cell_type": "markdown",
   "metadata": {},
   "source": [
    "# format()\n",
    "\n",
    "\n"
   ]
  },
  {
   "cell_type": "markdown",
   "metadata": {},
   "source": [
    "The format() method formats the specified value(s) and insert them inside the string's placeholder. The placeholder is defined using curly brackets: {}. \n"
   ]
  },
  {
   "cell_type": "code",
   "execution_count": 3,
   "metadata": {},
   "outputs": [
    {
     "name": "stdout",
     "output_type": "stream",
     "text": [
      "1 2\n",
      "a=2 and b=3, and c=100\n",
      "My name is John, I'm 36\n"
     ]
    }
   ],
   "source": [
    "print ('{} {}'.format(1, 2))\n",
    "\n",
    "\n",
    "a,b = 2, 3\n",
    "c=100\n",
    "print(\"a={0} and b={1}, and c={2}\".format(a,b,c))\n",
    "\n",
    "txt1 = \"My name is {fname}, I'm {age}\".format(fname = \"John\", age = 36)\n",
    "\n",
    "print (txt1)\n"
   ]
  },
  {
   "cell_type": "markdown",
   "metadata": {},
   "source": [
    "# help()\n",
    "\n",
    "To get details about any module, keyword, symbol, or topic, use the help() function.\n",
    "\n"
   ]
  },
  {
   "cell_type": "code",
   "execution_count": 4,
   "metadata": {},
   "outputs": [
    {
     "name": "stdout",
     "output_type": "stream",
     "text": [
      "Help on class int in module builtins:\n",
      "\n",
      "class int(object)\n",
      " |  int([x]) -> integer\n",
      " |  int(x, base=10) -> integer\n",
      " |  \n",
      " |  Convert a number or string to an integer, or return 0 if no arguments\n",
      " |  are given.  If x is a number, return x.__int__().  For floating point\n",
      " |  numbers, this truncates towards zero.\n",
      " |  \n",
      " |  If x is not a number or if base is given, then x must be a string,\n",
      " |  bytes, or bytearray instance representing an integer literal in the\n",
      " |  given base.  The literal can be preceded by '+' or '-' and be surrounded\n",
      " |  by whitespace.  The base defaults to 10.  Valid bases are 0 and 2-36.\n",
      " |  Base 0 means to interpret the base from the string as an integer literal.\n",
      " |  >>> int('0b100', base=0)\n",
      " |  4\n",
      " |  \n",
      " |  Built-in subclasses:\n",
      " |      bool\n",
      " |  \n",
      " |  Methods defined here:\n",
      " |  \n",
      " |  __abs__(self, /)\n",
      " |      abs(self)\n",
      " |  \n",
      " |  __add__(self, value, /)\n",
      " |      Return self+value.\n",
      " |  \n",
      " |  __and__(self, value, /)\n",
      " |      Return self&value.\n",
      " |  \n",
      " |  __bool__(self, /)\n",
      " |      self != 0\n",
      " |  \n",
      " |  __ceil__(...)\n",
      " |      Ceiling of an Integral returns itself.\n",
      " |  \n",
      " |  __divmod__(self, value, /)\n",
      " |      Return divmod(self, value).\n",
      " |  \n",
      " |  __eq__(self, value, /)\n",
      " |      Return self==value.\n",
      " |  \n",
      " |  __float__(self, /)\n",
      " |      float(self)\n",
      " |  \n",
      " |  __floor__(...)\n",
      " |      Flooring an Integral returns itself.\n",
      " |  \n",
      " |  __floordiv__(self, value, /)\n",
      " |      Return self//value.\n",
      " |  \n",
      " |  __format__(self, format_spec, /)\n",
      " |      Default object formatter.\n",
      " |  \n",
      " |  __ge__(self, value, /)\n",
      " |      Return self>=value.\n",
      " |  \n",
      " |  __getattribute__(self, name, /)\n",
      " |      Return getattr(self, name).\n",
      " |  \n",
      " |  __getnewargs__(self, /)\n",
      " |  \n",
      " |  __gt__(self, value, /)\n",
      " |      Return self>value.\n",
      " |  \n",
      " |  __hash__(self, /)\n",
      " |      Return hash(self).\n",
      " |  \n",
      " |  __index__(self, /)\n",
      " |      Return self converted to an integer, if self is suitable for use as an index into a list.\n",
      " |  \n",
      " |  __int__(self, /)\n",
      " |      int(self)\n",
      " |  \n",
      " |  __invert__(self, /)\n",
      " |      ~self\n",
      " |  \n",
      " |  __le__(self, value, /)\n",
      " |      Return self<=value.\n",
      " |  \n",
      " |  __lshift__(self, value, /)\n",
      " |      Return self<<value.\n",
      " |  \n",
      " |  __lt__(self, value, /)\n",
      " |      Return self<value.\n",
      " |  \n",
      " |  __mod__(self, value, /)\n",
      " |      Return self%value.\n",
      " |  \n",
      " |  __mul__(self, value, /)\n",
      " |      Return self*value.\n",
      " |  \n",
      " |  __ne__(self, value, /)\n",
      " |      Return self!=value.\n",
      " |  \n",
      " |  __neg__(self, /)\n",
      " |      -self\n",
      " |  \n",
      " |  __or__(self, value, /)\n",
      " |      Return self|value.\n",
      " |  \n",
      " |  __pos__(self, /)\n",
      " |      +self\n",
      " |  \n",
      " |  __pow__(self, value, mod=None, /)\n",
      " |      Return pow(self, value, mod).\n",
      " |  \n",
      " |  __radd__(self, value, /)\n",
      " |      Return value+self.\n",
      " |  \n",
      " |  __rand__(self, value, /)\n",
      " |      Return value&self.\n",
      " |  \n",
      " |  __rdivmod__(self, value, /)\n",
      " |      Return divmod(value, self).\n",
      " |  \n",
      " |  __repr__(self, /)\n",
      " |      Return repr(self).\n",
      " |  \n",
      " |  __rfloordiv__(self, value, /)\n",
      " |      Return value//self.\n",
      " |  \n",
      " |  __rlshift__(self, value, /)\n",
      " |      Return value<<self.\n",
      " |  \n",
      " |  __rmod__(self, value, /)\n",
      " |      Return value%self.\n",
      " |  \n",
      " |  __rmul__(self, value, /)\n",
      " |      Return value*self.\n",
      " |  \n",
      " |  __ror__(self, value, /)\n",
      " |      Return value|self.\n",
      " |  \n",
      " |  __round__(...)\n",
      " |      Rounding an Integral returns itself.\n",
      " |      Rounding with an ndigits argument also returns an integer.\n",
      " |  \n",
      " |  __rpow__(self, value, mod=None, /)\n",
      " |      Return pow(value, self, mod).\n",
      " |  \n",
      " |  __rrshift__(self, value, /)\n",
      " |      Return value>>self.\n",
      " |  \n",
      " |  __rshift__(self, value, /)\n",
      " |      Return self>>value.\n",
      " |  \n",
      " |  __rsub__(self, value, /)\n",
      " |      Return value-self.\n",
      " |  \n",
      " |  __rtruediv__(self, value, /)\n",
      " |      Return value/self.\n",
      " |  \n",
      " |  __rxor__(self, value, /)\n",
      " |      Return value^self.\n",
      " |  \n",
      " |  __sizeof__(self, /)\n",
      " |      Returns size in memory, in bytes.\n",
      " |  \n",
      " |  __sub__(self, value, /)\n",
      " |      Return self-value.\n",
      " |  \n",
      " |  __truediv__(self, value, /)\n",
      " |      Return self/value.\n",
      " |  \n",
      " |  __trunc__(...)\n",
      " |      Truncating an Integral returns itself.\n",
      " |  \n",
      " |  __xor__(self, value, /)\n",
      " |      Return self^value.\n",
      " |  \n",
      " |  as_integer_ratio(self, /)\n",
      " |      Return integer ratio.\n",
      " |      \n",
      " |      Return a pair of integers, whose ratio is exactly equal to the original int\n",
      " |      and with a positive denominator.\n",
      " |      \n",
      " |      >>> (10).as_integer_ratio()\n",
      " |      (10, 1)\n",
      " |      >>> (-10).as_integer_ratio()\n",
      " |      (-10, 1)\n",
      " |      >>> (0).as_integer_ratio()\n",
      " |      (0, 1)\n",
      " |  \n",
      " |  bit_length(self, /)\n",
      " |      Number of bits necessary to represent self in binary.\n",
      " |      \n",
      " |      >>> bin(37)\n",
      " |      '0b100101'\n",
      " |      >>> (37).bit_length()\n",
      " |      6\n",
      " |  \n",
      " |  conjugate(...)\n",
      " |      Returns self, the complex conjugate of any int.\n",
      " |  \n",
      " |  to_bytes(self, /, length, byteorder, *, signed=False)\n",
      " |      Return an array of bytes representing an integer.\n",
      " |      \n",
      " |      length\n",
      " |        Length of bytes object to use.  An OverflowError is raised if the\n",
      " |        integer is not representable with the given number of bytes.\n",
      " |      byteorder\n",
      " |        The byte order used to represent the integer.  If byteorder is 'big',\n",
      " |        the most significant byte is at the beginning of the byte array.  If\n",
      " |        byteorder is 'little', the most significant byte is at the end of the\n",
      " |        byte array.  To request the native byte order of the host system, use\n",
      " |        `sys.byteorder' as the byte order value.\n",
      " |      signed\n",
      " |        Determines whether two's complement is used to represent the integer.\n",
      " |        If signed is False and a negative integer is given, an OverflowError\n",
      " |        is raised.\n",
      " |  \n",
      " |  ----------------------------------------------------------------------\n",
      " |  Class methods defined here:\n",
      " |  \n",
      " |  from_bytes(bytes, byteorder, *, signed=False) from builtins.type\n",
      " |      Return the integer represented by the given array of bytes.\n",
      " |      \n",
      " |      bytes\n",
      " |        Holds the array of bytes to convert.  The argument must either\n",
      " |        support the buffer protocol or be an iterable object producing bytes.\n",
      " |        Bytes and bytearray are examples of built-in objects that support the\n",
      " |        buffer protocol.\n",
      " |      byteorder\n",
      " |        The byte order used to represent the integer.  If byteorder is 'big',\n",
      " |        the most significant byte is at the beginning of the byte array.  If\n",
      " |        byteorder is 'little', the most significant byte is at the end of the\n",
      " |        byte array.  To request the native byte order of the host system, use\n",
      " |        `sys.byteorder' as the byte order value.\n",
      " |      signed\n",
      " |        Indicates whether two's complement is used to represent the integer.\n",
      " |  \n",
      " |  ----------------------------------------------------------------------\n",
      " |  Static methods defined here:\n",
      " |  \n",
      " |  __new__(*args, **kwargs) from builtins.type\n",
      " |      Create and return a new object.  See help(type) for accurate signature.\n",
      " |  \n",
      " |  ----------------------------------------------------------------------\n",
      " |  Data descriptors defined here:\n",
      " |  \n",
      " |  denominator\n",
      " |      the denominator of a rational number in lowest terms\n",
      " |  \n",
      " |  imag\n",
      " |      the imaginary part of a complex number\n",
      " |  \n",
      " |  numerator\n",
      " |      the numerator of a rational number in lowest terms\n",
      " |  \n",
      " |  real\n",
      " |      the real part of a complex number\n",
      "\n",
      "Help on built-in function format in module builtins:\n",
      "\n",
      "format(value, format_spec='', /)\n",
      "    Return value.__format__(format_spec)\n",
      "    \n",
      "    format_spec defaults to the empty string.\n",
      "    See the Format Specification Mini-Language section of help('FORMATTING') for\n",
      "    details.\n",
      "\n"
     ]
    }
   ],
   "source": [
    "# about int keyword\n",
    "help(int)\n",
    "\n",
    "# about format()\n",
    "help(format)"
   ]
  },
  {
   "cell_type": "markdown",
   "metadata": {},
   "source": [
    "# ord()\n",
    "The function ord() returns an integer that represents the Unicode point for a given Unicode character"
   ]
  },
  {
   "cell_type": "code",
   "execution_count": null,
   "metadata": {},
   "outputs": [],
   "source": [
    "ord('a')"
   ]
  },
  {
   "cell_type": "markdown",
   "metadata": {},
   "source": [
    "# pow()\n",
    "pow() takes two arguments- say, x and y. It then returns the value of x to the power of y."
   ]
  },
  {
   "cell_type": "code",
   "execution_count": null,
   "metadata": {},
   "outputs": [],
   "source": [
    "pow(2,3)"
   ]
  },
  {
   "cell_type": "markdown",
   "metadata": {},
   "source": [
    "# set()\n",
    "\n",
    "set() returns a set of the items passed to it. For more on set operations look at here: https://www.geeksforgeeks.org/python-set-operations-union-intersection-difference-symmetric-difference/"
   ]
  },
  {
   "cell_type": "code",
   "execution_count": null,
   "metadata": {},
   "outputs": [],
   "source": [
    "set([2,2,3,1])"
   ]
  },
  {
   "cell_type": "markdown",
   "metadata": {},
   "source": [
    "# sorted()\n",
    "\n",
    "sorted() returns a sorted version of an iterable"
   ]
  },
  {
   "cell_type": "code",
   "execution_count": null,
   "metadata": {},
   "outputs": [],
   "source": [
    "sorted ([1,4,2,3])"
   ]
  },
  {
   "cell_type": "markdown",
   "metadata": {},
   "source": [
    "# type()\n",
    "\n",
    "type() is used to check the type of object we're dealing with.\n",
    "\n"
   ]
  },
  {
   "cell_type": "code",
   "execution_count": null,
   "metadata": {},
   "outputs": [],
   "source": [
    "print (type({}))\n",
    "print (type([]))\n",
    "print (type({a:\"hello\"}))\n",
    "print (type((\"ss\", \"s\", 1,4)))\n",
    "\n",
    "x = set([1,2,3])\n",
    "       \n",
    "print (type(x))\n",
    "       \n",
    "print (type({'p','q','r'}))\n"
   ]
  },
  {
   "cell_type": "code",
   "execution_count": null,
   "metadata": {},
   "outputs": [],
   "source": []
  }
 ],
 "metadata": {
  "kernelspec": {
   "display_name": "Python 3",
   "language": "python",
   "name": "python3"
  },
  "language_info": {
   "codemirror_mode": {
    "name": "ipython",
    "version": 3
   },
   "file_extension": ".py",
   "mimetype": "text/x-python",
   "name": "python",
   "nbconvert_exporter": "python",
   "pygments_lexer": "ipython3",
   "version": "3.8.5"
  }
 },
 "nbformat": 4,
 "nbformat_minor": 4
}
