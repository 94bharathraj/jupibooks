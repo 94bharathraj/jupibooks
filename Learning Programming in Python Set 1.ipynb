{
 "cells": [
  {
   "cell_type": "markdown",
   "metadata": {},
   "source": [
    "# Learning programming in Python\n",
    "\n",
    "\n",
    "\n",
    "## Operators\n",
    "\n",
    "The operators of python (e.g. +, -, * and /) work like in most other programming languages"
   ]
  },
  {
   "cell_type": "code",
   "execution_count": 3,
   "metadata": {},
   "outputs": [
    {
     "name": "stdout",
     "output_type": "stream",
     "text": [
      "41\n"
     ]
    }
   ],
   "source": [
    "add = 20 + 21 # Addition\n",
    "print (add)"
   ]
  },
  {
   "cell_type": "code",
   "execution_count": null,
   "metadata": {},
   "outputs": [],
   "source": [
    "20 * 4 + 30  # Addition and Multiplication"
   ]
  },
  {
   "cell_type": "code",
   "execution_count": null,
   "metadata": {},
   "outputs": [],
   "source": [
    "2*30 / 20 # Divition and Multiplication"
   ]
  },
  {
   "cell_type": "code",
   "execution_count": 4,
   "metadata": {},
   "outputs": [
    {
     "name": "stdout",
     "output_type": "stream",
     "text": [
      "3\n"
     ]
    }
   ],
   "source": [
    "var = 19 // 5 # division (floor) discards the fractional part\n",
    "\n",
    "print (var)\n"
   ]
  },
  {
   "cell_type": "code",
   "execution_count": 1,
   "metadata": {},
   "outputs": [
    {
     "name": "stdout",
     "output_type": "stream",
     "text": [
      "2\n"
     ]
    }
   ],
   "source": [
    "a = 17 % 3 # % operator returns the remainder of the division\n",
    "print (a)"
   ]
  },
  {
   "cell_type": "code",
   "execution_count": 2,
   "metadata": {},
   "outputs": [
    {
     "name": "stdout",
     "output_type": "stream",
     "text": [
      "343\n"
     ]
    }
   ],
   "source": [
    "b = 7 ** 3  # 7 to the power of 3\n",
    "print (b)\n"
   ]
  },
  {
   "cell_type": "markdown",
   "metadata": {},
   "source": [
    "## Variables\n",
    "\n",
    "Equal sign (=) is used to assign a value to a variable "
   ]
  },
  {
   "cell_type": "code",
   "execution_count": 6,
   "metadata": {},
   "outputs": [
    {
     "name": "stdout",
     "output_type": "stream",
     "text": [
      "76 22\n",
      "54\n"
     ]
    }
   ],
   "source": [
    "a = 76\n",
    "b = 22 \n",
    "print (a,b)\n",
    "c = a - b\n",
    "print (c)"
   ]
  },
  {
   "cell_type": "code",
   "execution_count": null,
   "metadata": {},
   "outputs": [],
   "source": [
    "price = 10020\n",
    "vat = 20\n",
    "vatamount = price * vat / 100 \n",
    "\n",
    "total =  price + vatamount\n",
    "print (total)"
   ]
  },
  {
   "cell_type": "markdown",
   "metadata": {},
   "source": [
    "## Strings\n",
    "\n",
    "They are enclosed in single quotes ('...') or double quotes (\"...\") resulting the same result"
   ]
  },
  {
   "cell_type": "code",
   "execution_count": null,
   "metadata": {},
   "outputs": [],
   "source": [
    "sentence1 = 'This is a sentence.'\n",
    "sentence2 = \"This is an ungrammatical sentences.\"\n",
    "\n",
    "sentence3 = \"This is an \\n ungrammatical \\t sentences.\"  # \\n is for newline  \\t for tab\n",
    "\n",
    "print (sentence1)\n",
    "print (sentence2)\n",
    "print (sentence3)"
   ]
  },
  {
   "cell_type": "markdown",
   "metadata": {},
   "source": [
    "Strings can be concatenated with the + operator and repeated with *"
   ]
  },
  {
   "cell_type": "code",
   "execution_count": null,
   "metadata": {},
   "outputs": [],
   "source": [
    "avar = 'abc' * 3\n",
    "print (avar)\n",
    "\n",
    "bvar = \"abc\" + \"efg\"+ \" ... \" + \"xyz\"\n",
    "print (bvar)"
   ]
  },
  {
   "cell_type": "markdown",
   "metadata": {},
   "source": [
    "Strings can be indexed, e.g. the first character of a string having index 0"
   ]
  },
  {
   "cell_type": "code",
   "execution_count": null,
   "metadata": {},
   "outputs": [],
   "source": [
    "var3 = \"hello world\"\n",
    "print (var3[1])\n",
    "\n",
    "print (bvar[4])  # \n",
    "print (bvar[-1]) \n",
    "print (var3[-1]) # -1 indicates last index \n",
    "print (var3[-2]) # -1 indicates second last index "
   ]
  },
  {
   "cell_type": "code",
   "execution_count": null,
   "metadata": {},
   "outputs": [],
   "source": [
    "word = 'NCI, Dublin, Ireland'\n",
    "print (word[0:2]) # characters from position 0 to 2 \n",
    "print (word[2:4]) #characters from position 2 to 5 \n",
    "\n",
    "print(word[:7]) # character from the beginning to position 7 \n",
    "print (word[5:]) # characters from position 5 to the end"
   ]
  },
  {
   "cell_type": "markdown",
   "metadata": {},
   "source": [
    "## Lists\n",
    "\n",
    "List is a Python data type. It is used to group together other values. Lists might contain items of different types. "
   ]
  },
  {
   "cell_type": "code",
   "execution_count": 8,
   "metadata": {},
   "outputs": [
    {
     "name": "stdout",
     "output_type": "stream",
     "text": [
      "8\n",
      "91\n",
      "[8, 9, 99, 71, 69, 89, 91]\n",
      "[8, 9, 99]\n",
      "[8, 9, 99, 71]\n"
     ]
    }
   ],
   "source": [
    "mylist = [8, 9, 99, 71, 69, 89, 91]\n",
    "\n",
    "print (mylist[0]) # indexing returns the item\n",
    "print (mylist[-1]) # indexing returns the item\n",
    "\n",
    "print (mylist[:]) # \n",
    "print (mylist[:3]) # \n",
    "\n",
    "print (mylist[:-3]) # "
   ]
  },
  {
   "cell_type": "markdown",
   "metadata": {},
   "source": [
    "Lists also support operations like concatenation:\n"
   ]
  },
  {
   "cell_type": "code",
   "execution_count": null,
   "metadata": {},
   "outputs": [],
   "source": [
    "mylist= [36, 49, 64, 81, 100]\n",
    "\n",
    "mylist += [1, 4, 9, 16, 25, 36]\n",
    "print(mylist)"
   ]
  },
  {
   "cell_type": "markdown",
   "metadata": {},
   "source": [
    "Strings are immutable; but lists are mutable"
   ]
  },
  {
   "cell_type": "code",
   "execution_count": null,
   "metadata": {},
   "outputs": [],
   "source": [
    "mylist = [1, 2, 3, 5, 5, 6]\n",
    "mylist[3] = 4\n",
    "print (mylist)"
   ]
  },
  {
   "cell_type": "markdown",
   "metadata": {},
   "source": [
    "Built-in methods for List "
   ]
  },
  {
   "cell_type": "code",
   "execution_count": null,
   "metadata": {},
   "outputs": [],
   "source": [
    "mylist = [1, 2, 3, 5, 5, 6]\n",
    "mylist.append(7)  # add at the end; try mylist.remove()\n",
    "print (mylist)\n",
    "print (mylist.index(3))  # return index of the value \n",
    "\n",
    "mylist.insert(3, 88)\n",
    "print (mylist)\n",
    "\n",
    "vowels = ['e', 'a', 'u', 'o', 'i']\n",
    "vowels.sort()  # sort\n",
    "\n",
    "print (vowels)\n",
    "\n",
    "vowels.sort(reverse =True) # sort in revere order\n",
    "\n",
    "print (vowels)\n",
    "\n",
    "# Operating System List\n",
    "systems = ['Windows', 'macOS', 'Linux']\n",
    "print('Original List:', systems)\n",
    "\n",
    "# List Reverse\n",
    "systems.reverse()\n",
    "\n",
    "# updated list\n",
    "print('Updated List:', systems)"
   ]
  },
  {
   "cell_type": "markdown",
   "metadata": {},
   "source": [
    "## len method"
   ]
  },
  {
   "cell_type": "code",
   "execution_count": null,
   "metadata": {},
   "outputs": [],
   "source": [
    "vowels = ['e', 'a', 'u', 'o', 'i']\n",
    "\n",
    "integers = [36, 49, 64, 81, 100, 1, 4, 9, 16, 25, 36]\n",
    "\n",
    "print (len(vowels))\n",
    "print (len(integers))"
   ]
  },
  {
   "cell_type": "markdown",
   "metadata": {},
   "source": [
    "## if else elif Statement\n",
    "\n"
   ]
  },
  {
   "cell_type": "code",
   "execution_count": 3,
   "metadata": {},
   "outputs": [
    {
     "name": "stdout",
     "output_type": "stream",
     "text": [
      "Please enter a number: 8\n",
      "More than 1\n",
      "Print square of the number entered\n",
      "final number 512\n"
     ]
    }
   ],
   "source": [
    "number = int(input(\"Please enter a number: \"))\n",
    "if number < 0:\n",
    "    print('Negative')\n",
    "elif number == 0:\n",
    "    print('Zero')\n",
    "elif number == 1:\n",
    "    print('Single')\n",
    "else:\n",
    "    print('More than 1')\n",
    "    \n",
    "\n",
    "if number > 1 and number < 50:\n",
    "    print (\"Print square of the number entered\")\n",
    "    number = number ** 3 # assign its cubic value to it if it is between 1 and 50\n",
    "elif number >= 50 and number < 100:\n",
    "    number = number ** 2 # assign its squre value to it if it is between 50 and 100\n",
    "    print (\"Print cube of the number entered\")\n",
    "else:\n",
    "    number = 2021  # otherwise assign 2021 to it\n",
    "    print (\"Other assign 2021 to it\")\n",
    "    \n",
    "print (\"final number\", number)"
   ]
  },
  {
   "cell_type": "markdown",
   "metadata": {},
   "source": [
    " ## How to create a dictionary?\n",
    " \n",
    " - Creating a dictionary is as simple as placing items inside curly braces {} separated by comma\n",
    "\n",
    " - An item has a key and the corresponding value expressed as a pair, i.e. key: value.\n",
    " \n",
    " - While values can be of any data type and can repeat, keys must be of immutable type (string, number or tuple with immutable elements) and must be unique."
   ]
  },
  {
   "cell_type": "code",
   "execution_count": 1,
   "metadata": {},
   "outputs": [
    {
     "name": "stdout",
     "output_type": "stream",
     "text": [
      "{}\n",
      "{1: 'apple', 2: 'ball'}\n",
      "{'name': 'John', 1: [2, 4, 3]}\n",
      "{1: 'apple', 2: 'ball'}\n",
      "{1: 'apple', 2: 'ball'}\n"
     ]
    }
   ],
   "source": [
    "# empty dictionary\n",
    "my_dict = {}\n",
    "print(my_dict)\n",
    "# dictionary with integer keys\n",
    "my_dict = {1: 'apple', 2: 'ball'}\n",
    "print(my_dict)\n",
    "# dictionary with mixed keys\n",
    "my_dict = {'name': 'John', 1: [2, 4, 3]}\n",
    "print(my_dict)\n",
    "# using dict()\n",
    "my_dict = dict({1:'apple', 2:'ball'})\n",
    "print(my_dict)\n",
    "# from sequence having each item as a pair\n",
    "my_dict = dict([(1,'apple'), (2,'ball')])\n",
    "print(my_dict)"
   ]
  },
  {
   "cell_type": "markdown",
   "metadata": {},
   "source": [
    " ## Python Dictionary get():\n",
    "    \n",
    "\n",
    "- The get() method returns the value for the specified key if key is in dictionary.\n",
    "\n",
    "- The get() method takes maximum of two parameters:\n",
    "\n",
    "        key - key to be searched in the dictionary\n",
    "        value (optional) - value to be returned if the key is not found. The default value is None.\n",
    "        Return Value from get()   \n"
   ]
  },
  {
   "cell_type": "code",
   "execution_count": null,
   "metadata": {},
   "outputs": [],
   "source": [
    "person = {'name': 'john', 'age': 52, 'salary': 50000}\n",
    "\n",
    "print('Name: ', person.get('name'))\n",
    "print('Age: ', person.get('age'))\n",
    "\n",
    "# value is not provided\n",
    "print('Occupation: ', person.get('occupation'))\n",
    "\n"
   ]
  },
  {
   "cell_type": "markdown",
   "metadata": {},
   "source": [
    "## for loop\n",
    "\n",
    "- for loop is used for iterating over a sequence (e.g. a list, a tuple, a dictionary, a set, or a string).\n",
    "\n",
    "- This is like the for keyword in other programming languages\n"
   ]
  },
  {
   "cell_type": "code",
   "execution_count": null,
   "metadata": {},
   "outputs": [],
   "source": [
    "li = [1,2,3,4,5]\n",
    "\n",
    "for i in li:\n",
    "    print(i)\n",
    "\n",
    "print (\"\\nPrinting string character by a loop\\n\")\n",
    "string = 'he plays football' \n",
    "\n",
    "for c in string:\n",
    "    print (c)"
   ]
  },
  {
   "cell_type": "markdown",
   "metadata": {},
   "source": [
    "## while loop\n",
    "\n",
    "Using __while__ loop one can execute a set of statements as long as a condition is true.\n"
   ]
  },
  {
   "cell_type": "code",
   "execution_count": null,
   "metadata": {},
   "outputs": [],
   "source": [
    "count = 1\n",
    "\n",
    "while count < 10:\n",
    "    print(count)\n",
    "    count += 1\n"
   ]
  },
  {
   "cell_type": "markdown",
   "metadata": {},
   "source": [
    "## break statement and for loop with else\n",
    "\n",
    "- __break__ statement can be used to stop a for loop. In such case, the else part is ignored.\n",
    "\n",
    "- A for loop can have an optional else block as well. The else part is executed if the items in the sequence used in for loop exhausts.\n",
    "\n",
    "- In the second example, a for loop's else part runs if no break occurs\n",
    "\n",
    "- Here is an example to illustrate this"
   ]
  },
  {
   "cell_type": "code",
   "execution_count": null,
   "metadata": {},
   "outputs": [],
   "source": [
    "s = 'beetle'\n",
    "# for loop  \n",
    "for letter in s:  \n",
    "    \n",
    "    print(letter)  \n",
    "    # break the loop as soon it sees 'e' or 's'  \n",
    "    if letter == 'e' or letter == 's':  \n",
    "        break\n",
    "    \n",
    "print(\"Out of for loop\")  \n",
    "print()  \n",
    "    \n",
    "i = 0    \n",
    "# while loop  \n",
    "while True:  \n",
    "    print(s[i])  \n",
    "    \n",
    "    # break the loop as soon it sees 'e' or 's'  \n",
    "    if s[i] == 'e' or s[i] == 's':  \n",
    "        break\n",
    "    i += 1\n",
    "    \n",
    "print(\"Out of while loop\") \n",
    "\n",
    "# One more example\n",
    "\n",
    "digits = [0, 1, 5, 8, 9, 10, 34, 54, 3]\n",
    "\n",
    "for i in digits:\n",
    "    print(i)\n",
    "    if i == 9:\n",
    "        break\n",
    "\n",
    "print (\"\\n Out of first for loop\\n\") \n",
    "\n",
    "for i in digits:\n",
    "    print(i)\n",
    "    if i == 9:\n",
    "        break\n",
    "else:\n",
    "    print(\"No items left.\")\n",
    "\n",
    "\n",
    "print (\"\\n Out of for 2nd for loop\\n\") \n",
    "    \n",
    "digits = [0, 1, 5, 8, 9, 10, 34, 54, 3]\n",
    "\n",
    "for i in digits:\n",
    "    print(i)\n",
    "    if i == 19:\n",
    "        break\n",
    "else:\n",
    "    print(\"No items left.\")\n",
    "\n",
    "print (\"\\n Out of third for loop\\n\") "
   ]
  },
  {
   "cell_type": "markdown",
   "metadata": {},
   "source": [
    " ## max() min()\n",
    " \n",
    "max() returns the largest item in the set, string or list\n",
    "min() returns the smallest item in the set, string or list"
   ]
  },
  {
   "cell_type": "code",
   "execution_count": null,
   "metadata": {},
   "outputs": [],
   "source": [
    "print(\"Maximum value is : \",end=\"\")\n",
    "print (max( 4,12,43.3, 56, 89, 19,100))\n",
    "\n",
    "a = [4, 5, 6, 7]\n",
    "print (max(a))\n",
    "\n",
    "string = 'dckjnwdofjwefownwnowfewofjwejdwonenoafd'\n",
    "\n",
    "print (max(string))\n",
    "\n"
   ]
  },
  {
   "cell_type": "code",
   "execution_count": null,
   "metadata": {},
   "outputs": [],
   "source": [
    "print(\"Minimum value is : \", end=\"\")\n",
    "print (min(4,12,43.3, 56, 89, 19,100))\n",
    "\n",
    "a = [4, 5, 6,7]\n",
    "print (min(a))\n",
    "\n",
    "\n",
    "string = 'dckjnwdofjwefownwnowfewofjwejdwonenoafd'\n",
    "\n",
    "print (min(string))\n"
   ]
  },
  {
   "cell_type": "markdown",
   "metadata": {},
   "source": [
    "## range() is commonly used in for looping hence, knowledge of same is key aspect when dealing with any kind of Python code."
   ]
  },
  {
   "cell_type": "code",
   "execution_count": 2,
   "metadata": {},
   "outputs": [
    {
     "name": "stdout",
     "output_type": "stream",
     "text": [
      "List generated using 1 parameter : [0, 1, 2, 3, 4, 5, 6, 7, 8]\n",
      "List generated using 2 parameters : [3, 4, 5, 6, 7, 8]\n",
      "List generated using 2 parameters with negatives : [-6, -5, -4, -3, -2, -1, 0, 1]\n"
     ]
    }
   ],
   "source": [
    "lis1 = list(range(9)) \n",
    "lis2 = list(range(3, 9)) \n",
    "lis3 = list(range(-6, 2)) \n",
    "  \n",
    "# initializing list using range, 1 parameter \n",
    "# only stop parameter \n",
    "print(\"List generated using 1 parameter : \" + str(lis1))\n",
    "  \n",
    "# initializing list using range, 2 parameters \n",
    "# only step and stop parameters \n",
    "print(\"List generated using 2 parameters : \" + str(lis2))  \n",
    "  \n",
    "# initializing list using range, 2 parameter \n",
    "# only step and stop parameters \n",
    "print(\"List generated using 2 parameters with negatives : \" + str(lis3))  "
   ]
  },
  {
   "cell_type": "markdown",
   "metadata": {},
   "source": [
    "## __continue__ statement\n",
    "\n",
    "It returns the control to the beginning of the while loop"
   ]
  },
  {
   "cell_type": "code",
   "execution_count": null,
   "metadata": {},
   "outputs": [],
   "source": [
    "for i in range(1, 11):  \n",
    "    # If i is equals to 6 continue to next iteration without printing   \n",
    "    if i == 6:  \n",
    "        continue\n",
    "    else:  \n",
    "        # otherwise print the value of i  \n",
    "        print(i, end = \" \") \n",
    "\n",
    "\n",
    "print (\"\\n\\nwith while loop\\n\")\n",
    "\n",
    "var = 7         \n",
    "while var > 0:\n",
    "    var = var -1\n",
    "    if var == 3:\n",
    "        continue\n",
    "    print ('Current variable value :', var)\n",
    "    \n",
    "print (\"Good bye!\")"
   ]
  }
 ],
 "metadata": {
  "kernelspec": {
   "display_name": "Python 3",
   "language": "python",
   "name": "python3"
  },
  "language_info": {
   "codemirror_mode": {
    "name": "ipython",
    "version": 3
   },
   "file_extension": ".py",
   "mimetype": "text/x-python",
   "name": "python",
   "nbconvert_exporter": "python",
   "pygments_lexer": "ipython3",
   "version": "3.8.5"
  }
 },
 "nbformat": 4,
 "nbformat_minor": 4
}
