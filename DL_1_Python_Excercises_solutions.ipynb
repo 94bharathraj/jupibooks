{
 "cells": [
  {
   "cell_type": "markdown",
   "metadata": {},
   "source": [
    "# Solution : Excercise 1"
   ]
  },
  {
   "cell_type": "code",
   "execution_count": 1,
   "metadata": {},
   "outputs": [
    {
     "name": "stdout",
     "output_type": "stream",
     "text": [
      "Enter a number: 8\n",
      "even number.\n"
     ]
    }
   ],
   "source": [
    "number = int(input(\"Enter a number: \"))\n",
    "mod = number % 2\n",
    "if mod > 0:\n",
    "    print(\"odd number.\")\n",
    "else:\n",
    "    print(\"even number.\")"
   ]
  },
  {
   "cell_type": "markdown",
   "metadata": {},
   "source": [
    "# Solution : Excercise 2"
   ]
  },
  {
   "cell_type": "code",
   "execution_count": 2,
   "metadata": {},
   "outputs": [
    {
     "name": "stdout",
     "output_type": "stream",
     "text": [
      "Please enter a wordhello\n",
      "hello olleh\n",
      "This word is not a palindrome\n",
      "olleh\n"
     ]
    }
   ],
   "source": [
    "word = input(\"Please enter a word\")\n",
    "word = str(word)\n",
    "\n",
    "lst = word.split()\n",
    "# reversing the words using reversed() function\n",
    "revlst = list(reversed(word))\n",
    "# joining the words and printing\n",
    "rev = \"\".join(revlst)\n",
    "# removing leading or trailing space if any\n",
    "rev = rev.strip()\n",
    "\n",
    "print (word, rev)\n",
    "\n",
    "if word == rev:\n",
    "    print(\"This word is a palindrome\")\n",
    "else:\n",
    "    print(\"This word is not a palindrome\")\n",
    "\n",
    "print(rev)\n",
    "\n"
   ]
  },
  {
   "cell_type": "markdown",
   "metadata": {},
   "source": [
    "## Solution : Excercise 3"
   ]
  },
  {
   "cell_type": "code",
   "execution_count": 3,
   "metadata": {},
   "outputs": [
    {
     "name": "stdout",
     "output_type": "stream",
     "text": [
      "Enter number of elements : 5\n",
      "1\n",
      "2\n",
      "3\n",
      "4\n",
      "5\n",
      "[1, 5]\n"
     ]
    }
   ],
   "source": [
    "lst1 = [] \n",
    "  \n",
    "# number of elemetns as input \n",
    "n = int(input(\"Enter number of elements : \")) \n",
    "  \n",
    "for i in range(0, n): \n",
    "    item = int(input()) \n",
    "  \n",
    "    lst1.append(item) # adding the element \n",
    "    \n",
    "\n",
    "newlist = [lst1[0], lst1[-1]]\n",
    "\n",
    "print (newlist) \n",
    "\n",
    "      \n"
   ]
  },
  {
   "cell_type": "markdown",
   "metadata": {},
   "source": [
    "# Solution Excercise 4"
   ]
  },
  {
   "cell_type": "code",
   "execution_count": null,
   "metadata": {},
   "outputs": [],
   "source": [
    "# Search function\n",
    "def search (lst, x):\n",
    "    \n",
    "    if x in lst:\n",
    "        return True\n",
    "    \n",
    "    return False\n",
    "\n",
    "\n",
    "\n",
    "# Take input list of numbers\n",
    "n = int(input(\"Enter number of elements : \")) \n",
    "m=[] \n",
    "for i in range (0,n):\n",
    "    x=int(input(\"enter no. \\n\")) \n",
    "    m.insert(i,x)\n",
    "    i+=1\n",
    "\n",
    "# Take input number to search\n",
    "new = int(input(\"Enter number to search: \"))\n",
    "\n",
    "\n",
    "# Search the new number in the list\n",
    "rtrn = search (m, new)\n",
    "\n",
    "if rtrn:\n",
    "    print (\"Number you entered found\")\n",
    "else:\n",
    "    print (\"Number you entered is not found\")\n"
   ]
  },
  {
   "cell_type": "markdown",
   "metadata": {},
   "source": [
    "# Solution: Excercise 5"
   ]
  },
  {
   "cell_type": "code",
   "execution_count": 4,
   "metadata": {},
   "outputs": [
    {
     "name": "stdout",
     "output_type": "stream",
     "text": [
      "Number 8\n",
      "not prime\n",
      "Number 9\n",
      "not prime\n",
      "Number 10\n",
      "not prime\n",
      "Number 11\n",
      "prime\n",
      "Number 13\n",
      "prime\n",
      "Number 81\n",
      "not prime\n",
      "Number 101\n",
      "prime\n",
      "Number 100\n",
      "not prime\n",
      "Number 94\n",
      "not prime\n"
     ]
    }
   ],
   "source": [
    "\n",
    "def check_prime (num):\n",
    "    \n",
    "    if num == 1 or num == 2:\n",
    "        return True\n",
    "    \n",
    "    # Iterate from 2 to num / 2\n",
    "    for i in range(2, num//2):\n",
    "        \n",
    "         # If num is divisible by any number between 2 and n / 2, it is not prime\n",
    "        if (num % i) == 0:\n",
    "            return False           \n",
    "        \n",
    "    return True\n",
    "\n",
    "\n",
    "a = [8, 9, 10, 11, 13, 81, 101, 100, 94]\n",
    "\n",
    "for ele in a:\n",
    "    print (\"Number\", ele)\n",
    "    if check_prime(ele):\n",
    "        print(\"prime\")\n",
    "    else:\n",
    "        print(\"not prime\")"
   ]
  },
  {
   "cell_type": "code",
   "execution_count": null,
   "metadata": {},
   "outputs": [],
   "source": []
  }
 ],
 "metadata": {
  "kernelspec": {
   "display_name": "Python 3",
   "language": "python",
   "name": "python3"
  },
  "language_info": {
   "codemirror_mode": {
    "name": "ipython",
    "version": 3
   },
   "file_extension": ".py",
   "mimetype": "text/x-python",
   "name": "python",
   "nbconvert_exporter": "python",
   "pygments_lexer": "ipython3",
   "version": "3.8.5"
  }
 },
 "nbformat": 4,
 "nbformat_minor": 4
}
